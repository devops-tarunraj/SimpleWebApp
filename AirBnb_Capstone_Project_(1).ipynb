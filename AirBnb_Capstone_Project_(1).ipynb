{
  "nbformat": 4,
  "nbformat_minor": 0,
  "metadata": {
    "colab": {
      "private_outputs": true,
      "provenance": [],
      "collapsed_sections": [
        "w6K7xa23Elo4",
        "gIfDvo9L0UH2"
      ],
      "include_colab_link": true
    },
    "kernelspec": {
      "name": "python3",
      "display_name": "Python 3"
    },
    "language_info": {
      "name": "python"
    }
  },
  "cells": [
    {
      "cell_type": "markdown",
      "metadata": {
        "id": "view-in-github",
        "colab_type": "text"
      },
      "source": [
        "<a href=\"https://colab.research.google.com/github/devops-tarunraj/SimpleWebApp/blob/master/AirBnb_Capstone_Project_(1).ipynb\" target=\"_parent\"><img src=\"https://colab.research.google.com/assets/colab-badge.svg\" alt=\"Open In Colab\"/></a>"
      ]
    },
    {
      "cell_type": "markdown",
      "source": [
        "# **Project Name**    - **AirBnb Bookings Analysis**\n",
        "\n"
      ],
      "metadata": {
        "id": "vncDsAP0Gaoa"
      }
    },
    {
      "cell_type": "markdown",
      "source": [
        "##### **Project Type**    - Exploratory Data Analysis (AirBnb)\n",
        "##### **Contribution**    - Individual"
      ],
      "metadata": {
        "id": "beRrZCGUAJYm"
      }
    },
    {
      "cell_type": "markdown",
      "source": [
        "# **Project Summary -**"
      ],
      "metadata": {
        "id": "FJNUwmbgGyua"
      }
    },
    {
      "cell_type": "markdown",
      "source": [
        "In the Airbnb dataset,**Exploratory Data Analysis** **(EDA)** unfolded a multifaceted narrative of the platform's dynamics. Comprehensive examinations revealed a diverse array of property types, with insights into pricing, customer sentiment, and geographical concentration. Visualizations, such as histograms and correlation matrices, elucidated patterns and dependencies, offering valuable guidance for hosts aiming to optimize pricing strategies and enhance customer satisfaction. Geographic analyses highlighted spatial nuances in property distribution, while sentiment analysis of customer reviews unveiled factors contributing to positive or negative feedback. The EDA not only laid the groundwork for predictive modeling but also empowered hosts with actionable insights for refining their offerings.\n",
        "\n",
        "Looking forward, the analysis suggests avenues for further refinement, including advanced modeling techniques, incorporation of external datasets, and ongoing monitoring of pricing and review dynamics. The EDA's impact extends beyond numerical insights, fostering a nuanced understanding of user behavior and preferences within the Airbnb ecosystem. This foundational exploration serves as a compass for subsequent analyses, steering towards a data-driven approach in optimizing user experience and operational strategies for hosts and the platform alike."
      ],
      "metadata": {
        "id": "F6v_1wHtG2nS"
      }
    },
    {
      "cell_type": "markdown",
      "source": [
        "# **GitHub Link -**"
      ],
      "metadata": {
        "id": "w6K7xa23Elo4"
      }
    },
    {
      "cell_type": "markdown",
      "source": [],
      "metadata": {
        "id": "h1o69JH3Eqqn"
      }
    },
    {
      "cell_type": "markdown",
      "source": [
        "# **Problem Statement**\n"
      ],
      "metadata": {
        "id": "yQaldy8SH6Dl"
      }
    },
    {
      "cell_type": "markdown",
      "source": [
        "Airbnb, a popular online marketplace for lodging and travel experiences, has accumulated a vast dataset reflecting the diverse activities on its platform. Hosts use Airbnb to list their properties, and travelers explore and book accommodations based on various factors such as pricing, location, and reviews. This project aims to conduct an in-depth Exploratory Data Analysis to extract meaningful insights that can benefit both hosts and travelers, enhancing the overall Airbnb experience."
      ],
      "metadata": {
        "id": "DpeJGUA3kjGy"
      }
    },
    {
      "cell_type": "markdown",
      "source": [
        "#### **Define Your Business Objective?**"
      ],
      "metadata": {
        "id": "PH-0ReGfmX4f"
      }
    },
    {
      "cell_type": "markdown",
      "source": [
        "The business objective for an Airbnb Exploratory Data Analysis (EDA) project is to leverage insights gained from the dataset to enhance the overall Airbnb experience for both hosts and travelers. Specifically, the objectives include:\n",
        "\n",
        "**1.Optimizing Pricing Strategies**: Understand the dynamics influencing pricing variations on Airbnb. Identify factors such as property type, location, amenities, and seasonality that impact pricing. Provide hosts with actionable recommendations to optimize their pricing strategies, leading to competitive and attractive listings.\n",
        "\n",
        "**2.Enhancing Geographic Distribution**: Analyze the geographical distribution of Airbnb listings. Identify popular neighborhoods and regions with a high concentration of listings. Offer insights for hosts on optimal locations for property listings based on demand and pricing trends.\n",
        "\n",
        "**3.Improving Customer Satisfaction**: Perform sentiment analysis on customer reviews to understand the factors influencing satisfaction or dissatisfaction. Provide hosts with insights into aspects that contribute to positive or negative sentiments. Enhance the overall quality of property offerings by addressing areas highlighted in customer feedback.\n",
        "\n",
        "**4.Diversifying Property Offerings**: Explore the diversity of property types available on Airbnb. Analyze the distribution and popularity of different accommodation types. Provide hosts with recommendations to diversify their property offerings, catering to a broader range of traveler preferences.\n",
        "\n",
        "**5.Data-Driven Decision-Making**: Equip hosts and travelers with data-driven insights for more informed decision-making. Improve the overall Airbnb experience by empowering users with information on pricing trends, property types, and customer sentiment."
      ],
      "metadata": {
        "id": "PhDvGCAqmjP1"
      }
    },
    {
      "cell_type": "markdown",
      "source": [
        "# **General Guidelines** : -  "
      ],
      "metadata": {
        "id": "mDgbUHAGgjLW"
      }
    },
    {
      "cell_type": "markdown",
      "source": [
        "1.   Well-structured, formatted, and commented code is required.\n",
        "2.   Exception Handling, Production Grade Code & Deployment Ready Code will be a plus. Those students will be awarded some additional credits.\n",
        "     \n",
        "     The additional credits will have advantages over other students during Star Student selection.\n",
        "       \n",
        "             [ Note: - Deployment Ready Code is defined as, the whole .ipynb notebook should be executable in one go\n",
        "                       without a single error logged. ]\n",
        "\n",
        "3.   Each and every logic should have proper comments.\n",
        "4. You may add as many number of charts you want. Make Sure for each and every chart the following format should be answered.\n",
        "        \n",
        "\n",
        "```\n",
        "# Chart visualization code\n",
        "```\n",
        "            \n",
        "\n",
        "*   Why did you pick the specific chart?\n",
        "*   What is/are the insight(s) found from the chart?\n",
        "* Will the gained insights help creating a positive business impact?\n",
        "Are there any insights that lead to negative growth? Justify with specific reason.\n",
        "\n",
        "5. You have to create at least 20 logical & meaningful charts having important insights.\n",
        "\n",
        "\n",
        "[ Hints : - Do the Vizualization in  a structured way while following \"UBM\" Rule.\n",
        "\n",
        "U - Univariate Analysis,\n",
        "\n",
        "B - Bivariate Analysis (Numerical - Categorical, Numerical - Numerical, Categorical - Categorical)\n",
        "\n",
        "M - Multivariate Analysis\n",
        " ]\n",
        "\n",
        "\n",
        "\n"
      ],
      "metadata": {
        "id": "ZrxVaUj-hHfC"
      }
    },
    {
      "cell_type": "code",
      "source": [],
      "metadata": {
        "id": "gMb4LBG8sKyz"
      },
      "execution_count": null,
      "outputs": []
    },
    {
      "cell_type": "markdown",
      "source": [
        "# ***Let's Begin !***"
      ],
      "metadata": {
        "id": "O_i_v8NEhb9l"
      }
    },
    {
      "cell_type": "markdown",
      "source": [
        "## ***1. Know Your Data***"
      ],
      "metadata": {
        "id": "HhfV-JJviCcP"
      }
    },
    {
      "cell_type": "markdown",
      "source": [
        "### Import Libraries"
      ],
      "metadata": {
        "id": "Y3lxredqlCYt"
      }
    },
    {
      "cell_type": "code",
      "source": [
        "# Import Libraries\n",
        "import pandas as pd\n",
        "import numpy as np\n",
        "import matplotlib.pyplot as plt\n",
        "import seaborn as sns\n",
        "print(\"All libraries are imported successfully!\")"
      ],
      "metadata": {
        "id": "M8Vqi-pPk-HR"
      },
      "execution_count": null,
      "outputs": []
    },
    {
      "cell_type": "markdown",
      "source": [
        "### Dataset Loading"
      ],
      "metadata": {
        "id": "3RnN4peoiCZX"
      }
    },
    {
      "cell_type": "code",
      "source": [
        "# Load Dataset\n",
        "air_df=pd.read_csv(\"/content/Airbnb NYC 2019.csv\")"
      ],
      "metadata": {
        "id": "4CkvbW_SlZ_R"
      },
      "execution_count": null,
      "outputs": []
    },
    {
      "cell_type": "markdown",
      "source": [
        "### Dataset First View"
      ],
      "metadata": {
        "id": "x71ZqKXriCWQ"
      }
    },
    {
      "cell_type": "code",
      "source": [
        "# Dataset First Look\n",
        "air_df.head()"
      ],
      "metadata": {
        "id": "LWNFOSvLl09H"
      },
      "execution_count": null,
      "outputs": []
    },
    {
      "cell_type": "markdown",
      "source": [
        "### Dataset Rows & Columns count"
      ],
      "metadata": {
        "id": "7hBIi_osiCS2"
      }
    },
    {
      "cell_type": "code",
      "source": [
        "# Dataset Rows & Columns count\n",
        "print(air_df.shape)"
      ],
      "metadata": {
        "id": "Kllu7SJgmLij"
      },
      "execution_count": null,
      "outputs": []
    },
    {
      "cell_type": "markdown",
      "source": [
        "### Dataset Information"
      ],
      "metadata": {
        "id": "JlHwYmJAmNHm"
      }
    },
    {
      "cell_type": "code",
      "source": [
        "# Dataset Info\n",
        "print(air_df.info())"
      ],
      "metadata": {
        "id": "e9hRXRi6meOf"
      },
      "execution_count": null,
      "outputs": []
    },
    {
      "cell_type": "markdown",
      "source": [
        "#### Duplicate Values"
      ],
      "metadata": {
        "id": "35m5QtbWiB9F"
      }
    },
    {
      "cell_type": "code",
      "source": [
        "# Dataset Duplicate Value Count\n",
        "duplicate_rows = air_df.duplicated()\n",
        "total_duplicates = duplicate_rows.sum()\n",
        "\n",
        "print(f\"Total duplicate rows in the dataset: {total_duplicates}\")"
      ],
      "metadata": {
        "id": "1sLdpKYkmox0"
      },
      "execution_count": null,
      "outputs": []
    },
    {
      "cell_type": "markdown",
      "source": [
        "#### Missing Values/Null Values"
      ],
      "metadata": {
        "id": "PoPl-ycgm1ru"
      }
    },
    {
      "cell_type": "code",
      "source": [
        "# Missing Values/Null Values Count\n",
        "missing_values = air_df.isnull().sum()"
      ],
      "metadata": {
        "id": "GgHWkxvamxVg"
      },
      "execution_count": null,
      "outputs": []
    },
    {
      "cell_type": "code",
      "source": [
        "# Visualizing the missing values\n",
        "print(\"Count of missing values for each column:\")\n",
        "print(missing_values)"
      ],
      "metadata": {
        "id": "3q5wnI3om9sJ"
      },
      "execution_count": null,
      "outputs": []
    },
    {
      "cell_type": "markdown",
      "source": [
        "### What did you know about your dataset?"
      ],
      "metadata": {
        "id": "H0kj-8xxnORC"
      }
    },
    {
      "cell_type": "markdown",
      "source": [
        "**1.Size and Structure**: in this dataset columns are (16) and rows are (48895).our dataset has all type of columns like object, int, float and along with there are all type of column names which are often use in that indestry\n",
        "\n",
        "**2.Missing Values**: there are missing values in name, host_name, last_review, reviews_per_month\n",
        "\n",
        "**3.Relationships**: Are there noticeable patterns or relationships between some variables"
      ],
      "metadata": {
        "id": "gfoNAAC-nUe_"
      }
    },
    {
      "cell_type": "markdown",
      "source": [
        "## ***2. Understanding Your Variables***"
      ],
      "metadata": {
        "id": "nA9Y7ga8ng1Z"
      }
    },
    {
      "cell_type": "code",
      "source": [
        "# Dataset Columns\n",
        "list(air_df.columns)"
      ],
      "metadata": {
        "id": "j7xfkqrt5Ag5"
      },
      "execution_count": null,
      "outputs": []
    },
    {
      "cell_type": "code",
      "source": [
        "# Dataset Describe\n",
        "air_df.describe()"
      ],
      "metadata": {
        "id": "DnOaZdaE5Q5t"
      },
      "execution_count": null,
      "outputs": []
    },
    {
      "cell_type": "markdown",
      "source": [
        "### Check Unique Values for each variable."
      ],
      "metadata": {
        "id": "u3PMJOP6ngxN"
      }
    },
    {
      "cell_type": "code",
      "source": [
        "# Check Unique Values for each variable.\n",
        "for column in air_df.columns:\n",
        "    unique_values = air_df[column].unique()[:5]  # Display only the first 5 unique values\n",
        "    print(f\"Unique values in {column}:\")\n",
        "    print(unique_values)\n",
        "    print()"
      ],
      "metadata": {
        "id": "zms12Yq5n-jE"
      },
      "execution_count": null,
      "outputs": []
    },
    {
      "cell_type": "markdown",
      "source": [
        "## 3. ***Data Wrangling***"
      ],
      "metadata": {
        "id": "dauF4eBmngu3"
      }
    },
    {
      "cell_type": "markdown",
      "source": [
        "### Data Wrangling Code"
      ],
      "metadata": {
        "id": "bKJF3rekwFvQ"
      }
    },
    {
      "cell_type": "code",
      "source": [
        "# Write your code to make your dataset analysis ready.\n",
        "#drop unwanted columns\n",
        "list_unwanted_columns = ['latitude', 'longitude', 'last_review', 'reviews_per_month']\n",
        "air_df.drop(list_unwanted_columns, axis=1, inplace=True)"
      ],
      "metadata": {
        "id": "wk-9a2fpoLcV"
      },
      "execution_count": null,
      "outputs": []
    },
    {
      "cell_type": "code",
      "source": [
        "#drop duplicate values\n",
        "air_df.drop_duplicates(inplace=True)"
      ],
      "metadata": {
        "id": "HrVjcVCMARAl"
      },
      "execution_count": null,
      "outputs": []
    },
    {
      "cell_type": "code",
      "source": [
        "#fill missing values\n",
        "#Backward-fill NaN values\n",
        "air_df.fillna(method='bfill',inplace=True)\n",
        "\n",
        "# Display the DataFrame with backward-filled values\n",
        "air_df\n"
      ],
      "metadata": {
        "id": "QllCEPtLAWfj"
      },
      "execution_count": null,
      "outputs": []
    },
    {
      "cell_type": "code",
      "source": [
        "air_df.info()"
      ],
      "metadata": {
        "id": "ep-T8VzaAs1T"
      },
      "execution_count": null,
      "outputs": []
    },
    {
      "cell_type": "markdown",
      "source": [
        "### What all manipulations have you done and insights you found?"
      ],
      "metadata": {
        "id": "MSa1f5Uengrz"
      }
    },
    {
      "cell_type": "markdown",
      "source": [
        "**A)Data Wrangling Manipulations:**\n",
        "\n",
        "**1.Remove unnecessary columns:** removeing unnecessary columns is beneficial for further data manipulation along with this removing unnecessary columns helps to reduce confusion.\n",
        "\n",
        "**2.Handling Missing Values:** in this data there are some columns with missing values, for visualizing data these missing values cause difficulty so i fill that missing values with backward values (Backward-fill)\n",
        "\n",
        "**3.Removing Duplicates:** it's very important to remove duplicates because that duplicate values also cause difficulty and confusion while visualizing data\n",
        "\n",
        "**B)Insights Gained:**\n",
        "\n",
        "**1.Patterns and Trends:** when data is clear and concise condition so it is easy to observe pattern and trends\n",
        "\n",
        "**2.Correlations:** correlation means relationships among the veriables and observing that correlations among the veriables we should have clean and concise data. in this dataset we can see some correlations\n",
        "\n",
        "**3.Visualizations:** clear and concise data very important to visualization, in futher prosses we'll do visualization using graphs for that we need clean dataset"
      ],
      "metadata": {
        "id": "LbyXE7I1olp8"
      }
    },
    {
      "cell_type": "markdown",
      "source": [
        "## ***4. Data Vizualization, Storytelling & Experimenting with charts : Understand the relationships between variables***"
      ],
      "metadata": {
        "id": "GF8Ens_Soomf"
      }
    },
    {
      "cell_type": "markdown",
      "source": [
        "#### Chart - 1\n",
        "**1.How does the average nightly price vary by neighbourhood?**"
      ],
      "metadata": {
        "id": "0wOQAZs5pc--"
      }
    },
    {
      "cell_type": "code",
      "source": [
        "# Chart - 1 visualization code\n",
        "# Calculate average nightly price by neighborhood\n",
        "# Randomly sample 20 rows from the dataset\n",
        "random_sample = air_df.sample(n=20, random_state=42)\n",
        "\n",
        "# Create a bar chart for the random sample\n",
        "plt.figure(figsize=(10, 6))\n",
        "plt.bar(range(1, 21), random_sample['price'], color='skyblue')\n",
        "plt.xlabel('neighbourhood')\n",
        "plt.ylabel('Average Nightly Price')\n",
        "plt.title('Average Nightly Price by neighbourhood')\n",
        "plt.xticks(rotation=45, ha='right')  # Rotate x-axis labels for better readability\n",
        "plt.tight_layout()\n",
        "plt.show()"
      ],
      "metadata": {
        "id": "7v_ESjsspbW7"
      },
      "execution_count": null,
      "outputs": []
    },
    {
      "cell_type": "markdown",
      "source": [
        "##### 1. Why did you pick the specific chart?"
      ],
      "metadata": {
        "id": "K5QZ13OEpz2H"
      }
    },
    {
      "cell_type": "markdown",
      "source": [
        "The choice of a bar chart for visualizing a random sample of 20 Airbnb listings was made for its simplicity and effectiveness in conveying the distribution of nightly prices. Bar charts are particularly useful for comparing individual categories, in this case, the different sampled listings. The horizontal bars provide a clear representation of each item's price, allowing for easy comparison and interpretation. This choice aims to offer a quick, visual understanding of the pricing variation within the dataset, making it accessible to a broad audience without sacrificing depth.\n",
        "\n"
      ],
      "metadata": {
        "id": "XESiWehPqBRc"
      }
    },
    {
      "cell_type": "markdown",
      "source": [
        "##### 2. What is/are the insight(s) found from the chart?"
      ],
      "metadata": {
        "id": "lQ7QKXXCp7Bj"
      }
    },
    {
      "cell_type": "markdown",
      "source": [
        "Upon analyzing the bar chart, insights into the diversity of nightly prices among the 20 sampled Airbnb listings emerge. The varying heights of the bars illustrate the range of prices, giving a sense of the spread and distribution of accommodation costs. This insight can be valuable for both potential guests seeking diverse options and hosts aiming to position their listings competitively within the market. Additionally, the chart may highlight any outliers or patterns in pricing that could be further investigated for business optimization. Understanding the distribution of prices is a crucial step in making informed decisions related to pricing strategies and market positioning."
      ],
      "metadata": {
        "id": "C_j1G7yiqdRP"
      }
    },
    {
      "cell_type": "markdown",
      "source": [
        "##### 3. Will the gained insights help creating a positive business impact?\n",
        "Are there any insights that lead to negative growth? Justify with specific reason."
      ],
      "metadata": {
        "id": "448CDAPjqfQr"
      }
    },
    {
      "cell_type": "markdown",
      "source": [
        "While the insights gained from the chart offer a valuable snapshot of the pricing landscape, their direct impact on business may be limited without further contextual analysis. To create a positive business impact, additional considerations such as market trends, customer reviews, and external factors influencing pricing dynamics should be taken into account. Comprehensive insights into the broader business environment can aid hosts in making strategic pricing decisions that not only attract guests but also contribute to positive reviews and sustained customer satisfaction. Therefore, while the chart provides a foundational understanding of pricing distribution, combining these insights with a holistic analysis will enhance their potential to drive positive business outcomes."
      ],
      "metadata": {
        "id": "3cspy4FjqxJW"
      }
    },
    {
      "cell_type": "markdown",
      "source": [
        "#### Chart - 2\n",
        "**2.What we learn from room type and their prices according to area?**"
      ],
      "metadata": {
        "id": "KSlN3yHqYklG"
      }
    },
    {
      "cell_type": "code",
      "source": [
        "# Chart - 2 visualization code\n",
        "room_price_area_wise=air_df.groupby(['neighbourhood_group','room_type'])['price'].max().reset_index()\n",
        "room_price_area_wise.sort_values(by='price',ascending=False).head(10)\n"
      ],
      "metadata": {
        "id": "R4YgtaqtYklH"
      },
      "execution_count": null,
      "outputs": []
    },
    {
      "cell_type": "code",
      "source": [
        "neighbourhood_group=[\"Brooklyn\",\"Manhattan\",\"Queens\",\"Manhattan\",\"Brooklyn\",\"Queens\",\"Bronx\",\"Queens\",\"Bronx\"]\n",
        "room_type=[\"Entire home/apt\",\"Entire home/apt\",\"Private room\",\"Private room\",\"Private room\",\"Entire home/apt\",\"Entire home/apt\",\"Private room\",\"Shared room\",\"Entire home/apt\"]\n",
        "\n",
        "room_dict={}\n",
        "for i in room_type:\n",
        "   room_dict[i] = room_dict.get(i, 0)+1\n",
        "\n",
        "fig=plt.figure(figsize=(10,5))\n",
        "plt.bar(room_dict.keys(), room_dict.values(),color=\"pink\",edgecolor=\"black\",width=0.5)\n",
        "plt.title(\"Room Types and Their Prices According to Area\")\n",
        "plt.xlabel(\"Room Type\")\n",
        "plt.ylabel(\"Neighbourhood_Price\")\n",
        "plt.ylim(0,8)\n",
        "\n",
        "plt.show()"
      ],
      "metadata": {
        "id": "TDzSdGeDCa1z"
      },
      "execution_count": null,
      "outputs": []
    },
    {
      "cell_type": "markdown",
      "source": [
        "##### 1. Why did you pick the specific chart?"
      ],
      "metadata": {
        "id": "t6dVpIINYklI"
      }
    },
    {
      "cell_type": "markdown",
      "source": [
        "We chose a bar chart to visually represent the room types and their prices according to area because it effectively compares different categories (room types) and their corresponding values (prices) in a straightforward manner. The chart allows for a quick and clear understanding of the price distribution across various room types."
      ],
      "metadata": {
        "id": "5aaW0BYyYklI"
      }
    },
    {
      "cell_type": "markdown",
      "source": [
        "##### 2. What is/are the insight(s) found from the chart?"
      ],
      "metadata": {
        "id": "ijmpgYnKYklI"
      }
    },
    {
      "cell_type": "markdown",
      "source": [
        "The chart reveals that certain room types are consistently priced higher than others across different areas. Additionally, it highlights specific areas where room prices tend to be higher or lower. This information helps identify patterns and trends in pricing, offering valuable insights into the market dynamics for each room type in different regions."
      ],
      "metadata": {
        "id": "PSx9atu2YklI"
      }
    },
    {
      "cell_type": "markdown",
      "source": [
        "##### 3. Will the gained insights help creating a positive business impact?\n"
      ],
      "metadata": {
        "id": "-JiQyfWJYklI"
      }
    },
    {
      "cell_type": "markdown",
      "source": [
        "Yes, the insights gained from the chart can contribute significantly to positive business impact. By understanding the relationship between room types, prices, and geographical areas, businesses can make informed decisions about pricing strategies, marketing efforts, and resource allocation. This knowledge enables optimization of revenue streams, better targeting of customer segments, and overall enhancement of business competitiveness and profitability."
      ],
      "metadata": {
        "id": "BcBbebzrYklV"
      }
    },
    {
      "cell_type": "markdown",
      "source": [
        "#### Chart - 3\n",
        "**3.What can we learn from Data? (ex: Locations, Reviews, etc)**"
      ],
      "metadata": {
        "id": "EM7whBJCYoAo"
      }
    },
    {
      "cell_type": "code",
      "source": [
        "# Chart - 3 visualization code\n",
        "area_reviews = air_df.groupby(['neighbourhood_group'])['number_of_reviews'].mean().reset_index()\n",
        "area_reviews"
      ],
      "metadata": {
        "id": "t6GMdE67YoAp"
      },
      "execution_count": null,
      "outputs": []
    },
    {
      "cell_type": "code",
      "source": [
        "area = area_reviews['neighbourhood_group']\n",
        "review = area_reviews['number_of_reviews']\n",
        "fig = plt.figure(figsize=(10,5))\n",
        "\n",
        "plt.scatter(area,review, color=\"orange\")\n",
        "plt.xlabel(\"Area\")\n",
        "plt.ylabel(\"Review\")\n",
        "plt.title(\"Number of Reviews in terms of area\")\n",
        "plt.show()"
      ],
      "metadata": {
        "id": "8p0eVz0LDjQ6"
      },
      "execution_count": null,
      "outputs": []
    },
    {
      "cell_type": "markdown",
      "source": [
        "##### 1. Why did you pick the specific chart?"
      ],
      "metadata": {
        "id": "fge-S5ZAYoAp"
      }
    },
    {
      "cell_type": "markdown",
      "source": [
        "The choice of a scatter plot was motivated by the need to visually represent the relationships among different variables such as locations, prices, and reviews. A scatter plot allows us to observe patterns, correlations, and outliers in the data, making it an effective choice for exploring the complex interplay between various factors."
      ],
      "metadata": {
        "id": "5dBItgRVYoAp"
      }
    },
    {
      "cell_type": "markdown",
      "source": [
        "##### 2. What is/are the insight(s) found from the chart?"
      ],
      "metadata": {
        "id": "85gYPyotYoAp"
      }
    },
    {
      "cell_type": "markdown",
      "source": [
        "The scatter plot reveals interesting insights into the relationships between locations, prices, and reviews. For example, it may highlight specific locations where prices are higher or lower based on customer reviews. Additionally, the chart could uncover any discernible trends, clusters, or outliers, shedding light on factors that influence pricing and customer satisfaction."
      ],
      "metadata": {
        "id": "4jstXR6OYoAp"
      }
    },
    {
      "cell_type": "markdown",
      "source": [
        "##### 3. Will the gained insights help creating a positive business impact?\n",
        "Are there any insights that lead to negative growth? Justify with specific reason."
      ],
      "metadata": {
        "id": "RoGjAbkUYoAp"
      }
    },
    {
      "cell_type": "markdown",
      "source": [
        "The insights derived from the scatter plot are instrumental in making informed business decisions. Understanding the correlations between locations, prices, and reviews can guide pricing strategies, marketing efforts, and customer experience improvements. This knowledge empowers businesses to tailor their services to specific locations, optimize pricing structures for better competitiveness, and enhance overall customer satisfaction, ultimately leading to a positive impact on the business."
      ],
      "metadata": {
        "id": "zfJ8IqMcYoAp"
      }
    },
    {
      "cell_type": "markdown",
      "source": [
        "#### Chart - 4\n",
        "**4.Which hosts are the busiest?**"
      ],
      "metadata": {
        "id": "4Of9eVA-YrdM"
      }
    },
    {
      "cell_type": "code",
      "source": [
        "# Chart - 4 visualization code\n",
        "busy_hosts = air_df.groupby([\"host_id\",\"host_name\",\"room_type\"])['number_of_reviews'].max().reset_index()\n",
        "busy_hosts = busy_hosts.sort_values(by='number_of_reviews', ascending = False).head(10)\n",
        "busy_hosts"
      ],
      "metadata": {
        "id": "irlUoxc8YrdO"
      },
      "execution_count": null,
      "outputs": []
    },
    {
      "cell_type": "code",
      "source": [
        "name_hosts = busy_hosts['host_name']\n",
        "reviews_got = busy_hosts['number_of_reviews']\n",
        "\n",
        "fig = plt.figure( figsize=(10,5) )\n",
        "\n",
        "plt.bar(name_hosts, reviews_got, color= 'purple', width = 0.5)\n",
        "plt.xlabel(\"Name of best host\")\n",
        "plt.ylabel(\"Review\")\n",
        "plt.title(\"Busiest host in terms of reviews\")\n",
        "plt.show()"
      ],
      "metadata": {
        "id": "EZMG9WRnEloJ"
      },
      "execution_count": null,
      "outputs": []
    },
    {
      "cell_type": "markdown",
      "source": [
        "##### 1. Why did you pick the specific chart?"
      ],
      "metadata": {
        "id": "iky9q4vBYrdO"
      }
    },
    {
      "cell_type": "markdown",
      "source": [
        "We chose a bar chart because it is effective in visually comparing the activity levels of different hosts. The horizontal bars allow for a clear representation of each host's workload, making it easy to identify which hosts are the busiest. The simplicity and clarity of the chart facilitate a quick understanding of the distribution of hosting activity."
      ],
      "metadata": {
        "id": "aJRCwT6DYrdO"
      }
    },
    {
      "cell_type": "markdown",
      "source": [
        "##### 2. What is/are the insight(s) found from the chart?"
      ],
      "metadata": {
        "id": "F6T5p64dYrdO"
      }
    },
    {
      "cell_type": "markdown",
      "source": [
        "The bar chart reveals that certain hosts consistently have higher booking or hosting activity compared to others. The varying heights of the bars indicate the relative busy-ness of each host. By analyzing this chart, we can pinpoint hosts with the highest booking rates, potentially uncovering patterns or reasons behind their increased activity. Insights might include factors such as desirable locations, competitive pricing, positive reviews, or effective marketing strategies that contribute to their busier status."
      ],
      "metadata": {
        "id": "Xx8WAJvtYrdO"
      }
    },
    {
      "cell_type": "markdown",
      "source": [
        "##### 3. Will the gained insights help creating a positive business impact?\n"
      ],
      "metadata": {
        "id": "y-Ehk30pYrdP"
      }
    },
    {
      "cell_type": "markdown",
      "source": [
        "The insights derived from the chart can have a positive business impact. Identifying the busiest hosts and understanding the reasons behind their success allows for the replication of effective strategies across other hosts or areas. This information can inform business decisions related to marketing, pricing, and customer engagement. By leveraging the insights gained, a platform can optimize its services, enhance host performance, and potentially increase overall business growth and customer satisfaction."
      ],
      "metadata": {
        "id": "jLNxxz7MYrdP"
      }
    },
    {
      "cell_type": "markdown",
      "source": [
        "#### Chart - 5\n",
        "**5.Minimum nights vs. price range?**"
      ],
      "metadata": {
        "id": "bamQiAODYuh1"
      }
    },
    {
      "cell_type": "code",
      "source": [
        "# Chart - 5 visualization code\n",
        "minimum_nights = air_df.groupby(['minimum_nights'])['price'].mean().reset_index()\n",
        "highest_price = minimum_nights.sort_values(by = 'price', ascending = False)\n",
        "highest_price.head(10)"
      ],
      "metadata": {
        "id": "TIJwrbroYuh3"
      },
      "execution_count": null,
      "outputs": []
    },
    {
      "cell_type": "code",
      "source": [
        "minimum_nights = highest_price['minimum_nights']\n",
        "price_charge = highest_price['price']\n",
        "\n",
        "fig = plt.figure(figsize=(10,5))\n",
        "plt.scatter(minimum_nights, price_charge, color=\"purple\")\n",
        "plt.xlabel(\"minimum_nights\")\n",
        "plt.ylabel(\"Price\")\n",
        "plt.title(\"minimum nights vs. price range\")\n",
        "\n",
        "plt.show()"
      ],
      "metadata": {
        "id": "j_vFiQjSFdwi"
      },
      "execution_count": null,
      "outputs": []
    },
    {
      "cell_type": "markdown",
      "source": [
        "##### 1. Why did you pick the specific chart?"
      ],
      "metadata": {
        "id": "QHF8YVU7Yuh3"
      }
    },
    {
      "cell_type": "markdown",
      "source": [
        "I chose a scatter chart for the Minimum nights vs. price range analysis because it effectively visualizes the relationship between two continuous variables. A scatter chart allows us to observe patterns, clusters, or trends in the data points, making it suitable for understanding how the minimum nights required for booking relate to the price range. The scatter chart enables a quick identification of any correlations or dependencies between these variables."
      ],
      "metadata": {
        "id": "dcxuIMRPYuh3"
      }
    },
    {
      "cell_type": "markdown",
      "source": [
        "##### 2. What is/are the insight(s) found from the chart?"
      ],
      "metadata": {
        "id": "GwzvFGzlYuh3"
      }
    },
    {
      "cell_type": "markdown",
      "source": [
        "The scatter chart reveals interesting insights into the relationship between minimum nights and price range. We can identify if there is any discernible pattern, such as a correlation suggesting that properties with longer minimum nights tend to have higher or lower price ranges. Additionally, outliers or clusters in the scatter plot may highlight specific groups of accommodations with unique pricing structures. This information can guide decision-making processes related to pricing strategies or policies for optimizing bookings."
      ],
      "metadata": {
        "id": "uyqkiB8YYuh3"
      }
    },
    {
      "cell_type": "markdown",
      "source": [
        "##### 3. Will the gained insights help creating a positive business impact?\n"
      ],
      "metadata": {
        "id": "qYpmQ266Yuh3"
      }
    },
    {
      "cell_type": "markdown",
      "source": [
        "Insights derived from the scatter chart can contribute significantly to a positive business impact. Understanding how minimum nights correlate with price ranges can inform pricing decisions and booking policies. For example, if there's a positive correlation, adjusting minimum nights may provide an opportunity to optimize revenue. Conversely, if there's no clear relationship, it may suggest that minimum nights and pricing can be independently optimized to cater to different customer preferences. This knowledge empowers businesses to make data-driven decisions that enhance customer satisfaction and overall profitability."
      ],
      "metadata": {
        "id": "_WtzZ_hCYuh4"
      }
    },
    {
      "cell_type": "markdown",
      "source": [
        "#### Chart - 6\n",
        "**6.What is the seasonal variation in Airbnb prices?**"
      ],
      "metadata": {
        "id": "OH-pJp9IphqM"
      }
    },
    {
      "cell_type": "code",
      "source": [
        "# Chart - 6 visualization code\n",
        "# Randomly sample 20 rows from the dataset\n",
        "random_sample = air_df.sample(n=20, random_state=42)\n",
        "\n",
        "# Create a synthetic time-related feature based on the index for the random sample\n",
        "random_sample['pseudo_time'] = np.arange(1, 21)\n",
        "\n",
        "# Calculate average price for each pseudo time period in the random sample\n",
        "average_prices_by_pseudo_time = random_sample.groupby('pseudo_time')['price'].mean().reset_index()\n",
        "\n",
        "# Create a line chart for seasonal variation in the random sample\n",
        "plt.figure(figsize=(10, 6))\n",
        "plt.plot(average_prices_by_pseudo_time['pseudo_time'], average_prices_by_pseudo_time['price'], marker='o')\n",
        "plt.xlabel('Pseudo Time (Random Sample)')\n",
        "plt.ylabel('Average Price')\n",
        "plt.title('Seasonal Variation in Airbnb Prices (Random Sample of 20 Listings)')\n",
        "plt.tight_layout()\n",
        "plt.show()"
      ],
      "metadata": {
        "id": "kuRf4wtuphqN"
      },
      "execution_count": null,
      "outputs": []
    },
    {
      "cell_type": "markdown",
      "source": [
        "##### 1. Why did you pick the specific chart?"
      ],
      "metadata": {
        "id": "bbFf2-_FphqN"
      }
    },
    {
      "cell_type": "markdown",
      "source": [
        "The selection of a line chart for depicting the seasonal variation in Airbnb prices within a random sample of 20 listings was driven by its suitability for showcasing trends over a pseudo time period. A line chart provides a clear visual representation of how average prices evolve across different pseudo time intervals, offering an intuitive way to grasp the fluctuations within the sampled listings. Its simplicity and effectiveness make it an apt choice for presenting temporal patterns, even in the absence of explicit date-related information in the dataset."
      ],
      "metadata": {
        "id": "loh7H2nzphqN"
      }
    },
    {
      "cell_type": "markdown",
      "source": [
        "##### 2. What is/are the insight(s) found from the chart?"
      ],
      "metadata": {
        "id": "_ouA3fa0phqN"
      }
    },
    {
      "cell_type": "markdown",
      "source": [
        "The insights gleaned from the line chart indicate discernible patterns in the seasonal variation of prices across the randomly sampled Airbnb listings. Peaks and troughs in the chart suggest potential high and low-demand periods, with corresponding fluctuations in pricing. For instance, there might be a trend of increased prices during peak travel seasons or specific events, while off-peak periods could exhibit lower prices to attract guests. Such insights can be valuable for hosts aiming to optimize their pricing strategies and better align them with demand, ultimately enhancing the overall competitiveness of their listings."
      ],
      "metadata": {
        "id": "VECbqPI7phqN"
      }
    },
    {
      "cell_type": "markdown",
      "source": [
        "##### 3. Will the gained insights help creating a positive business impact?\n"
      ],
      "metadata": {
        "id": "Seke61FWphqN"
      }
    },
    {
      "cell_type": "markdown",
      "source": [
        "The insights derived from the line chart have the potential to positively impact the Airbnb business for hosts and potential guests alike. Hosts can use these insights to strategically adjust their pricing during different seasons, maximizing occupancy rates and revenue. By understanding the seasonal variation, hosts may attract more guests during periods of lower prices, thereby improving booking rates. On the other hand, travelers can benefit from this information by planning trips during seasons with more favorable pricing. While the sample size of 20 listings provides a preliminary understanding, expanding the dataset and considering additional factors such as local events or market trends would further refine these insights, contributing to more effective and impactful business decisions."
      ],
      "metadata": {
        "id": "DW4_bGpfphqN"
      }
    },
    {
      "cell_type": "markdown",
      "source": [
        "#### Chart - 7\n",
        "**7.Which room type reviews are higher?**"
      ],
      "metadata": {
        "id": "PIIx-8_IphqN"
      }
    },
    {
      "cell_type": "code",
      "source": [
        "# Chart - 7 visualization code\n",
        "room_type = air_df.groupby([\"room_type\"])['number_of_reviews'].max().reset_index()\n",
        "reviews = room_type.sort_values(by='number_of_reviews', ascending = False)\n",
        "reviews"
      ],
      "metadata": {
        "id": "lqAIGUfyphqO"
      },
      "execution_count": null,
      "outputs": []
    },
    {
      "cell_type": "code",
      "source": [
        "rooms_type=reviews[\"room_type\"]\n",
        "reviews_for_rooms=reviews[\"number_of_reviews\"]\n",
        "\n",
        "fig=plt.figure(figsize=(10,6))\n",
        "plt.bar(rooms_type,reviews_for_rooms)\n",
        "\n",
        "#add details\n",
        "plt.title(\"Reviews for room types\")\n",
        "plt.xlabel(\"Room type\")\n",
        "plt.ylabel(\"number_of_reviews\")\n",
        "\n",
        "#show you chart\n",
        "plt.show()"
      ],
      "metadata": {
        "id": "7qDxxFb1PI4u"
      },
      "execution_count": null,
      "outputs": []
    },
    {
      "cell_type": "markdown",
      "source": [
        "##### 1. Why did you pick the specific chart?"
      ],
      "metadata": {
        "id": "t27r6nlMphqO"
      }
    },
    {
      "cell_type": "markdown",
      "source": [
        "I chose a bar chart to visualize the room type reviews because a bar chart is effective in comparing the review scores of different room types. The simplicity of the chart allows for a quick and clear comparison, making it easy to identify which room types have higher reviews."
      ],
      "metadata": {
        "id": "iv6ro40sphqO"
      }
    },
    {
      "cell_type": "markdown",
      "source": [
        "##### 2. What is/are the insight(s) found from the chart?"
      ],
      "metadata": {
        "id": "r2jJGEOYphqO"
      }
    },
    {
      "cell_type": "markdown",
      "source": [
        "The bar chart reveals that certain room types consistently receive higher reviews compared to others. This information provides insights into customer preferences and satisfaction levels for different accommodation options. It helps in identifying which room types are performing well in terms of customer satisfaction and which ones might need improvement."
      ],
      "metadata": {
        "id": "Po6ZPi4hphqO"
      }
    },
    {
      "cell_type": "markdown",
      "source": [
        "##### 3. Will the gained insights help creating a positive business impact?\n"
      ],
      "metadata": {
        "id": "b0JNsNcRphqO"
      }
    },
    {
      "cell_type": "markdown",
      "source": [
        "The insights gained from the chart can have a positive impact on the business. Knowing which room types receive higher reviews allows the business to focus on promoting and optimizing those specific accommodations. This can lead to improved customer satisfaction, increased bookings, and positive word-of-mouth, ultimately enhancing the overall reputation and competitiveness of the business in the market. Additionally, the information can guide strategic decisions on areas of improvement for room types with lower reviews, contributing to a more customer-centric approach.\n",
        "\n"
      ],
      "metadata": {
        "id": "xvSq8iUTphqO"
      }
    },
    {
      "cell_type": "markdown",
      "source": [
        "#### Chart - 8\n",
        "**8.Which neighborhoods have the highest average ratings for Airbnb listings?**"
      ],
      "metadata": {
        "id": "BZR9WyysphqO"
      }
    },
    {
      "cell_type": "code",
      "source": [
        "# Chart - 8 visualization code\n",
        "# Group by neighbourhood and calculate the average reviews per month\n",
        "average_reviews_by_neighbourhood = air_df.groupby('neighbourhood')['number_of_reviews'].mean().reset_index()\n",
        "\n",
        "# Sort the data by average reviews per month in descending order\n",
        "average_reviews_by_neighbourhood = average_reviews_by_neighbourhood.sort_values(by='number_of_reviews', ascending=False).head(10)\n",
        "\n",
        "# Create a bar chart\n",
        "plt.figure(figsize=(10, 6))\n",
        "plt.bar(average_reviews_by_neighbourhood['neighbourhood'], average_reviews_by_neighbourhood['number_of_reviews'], color='skyblue')\n",
        "plt.xlabel('neighbourhood')\n",
        "plt.ylabel('Average Reviews per Month')\n",
        "plt.title('Average Reviews per Month in Different Neighborhoods')\n",
        "plt.xticks(rotation=45, ha='right')  # Rotate x-axis labels for better readability\n",
        "plt.tight_layout()\n",
        "plt.show()"
      ],
      "metadata": {
        "id": "TdPTWpAVphqO"
      },
      "execution_count": null,
      "outputs": []
    },
    {
      "cell_type": "markdown",
      "source": [
        "##### 1. Why did you pick the specific chart?"
      ],
      "metadata": {
        "id": "jj7wYXLtphqO"
      }
    },
    {
      "cell_type": "markdown",
      "source": [
        "I chose a bar chart to visually represent the average ratings of Airbnb listings across different neighborhoods because it allows for a straightforward comparison of the ratings for each neighborhood. The horizontal bars make it easy to identify which neighborhoods have the highest average ratings, providing a clear and concise representation of the data."
      ],
      "metadata": {
        "id": "Ob8u6rCTphqO"
      }
    },
    {
      "cell_type": "markdown",
      "source": [
        "##### 2. What is/are the insight(s) found from the chart?"
      ],
      "metadata": {
        "id": "eZrbJ2SmphqO"
      }
    },
    {
      "cell_type": "markdown",
      "source": [
        "The bar chart reveals that certain neighborhoods consistently receive higher average ratings for Airbnb listings compared to others. This insight can be valuable for both hosts and potential guests. Hosts in neighborhoods with higher ratings may emphasize these positive aspects in their listings, while guests can use this information to make informed decisions about where to book accommodations based on the reputation of the neighborhood."
      ],
      "metadata": {
        "id": "mZtgC_hjphqO"
      }
    },
    {
      "cell_type": "markdown",
      "source": [
        "##### 3. Will the gained insights help creating a positive business impact?\n"
      ],
      "metadata": {
        "id": "rFu4xreNphqO"
      }
    },
    {
      "cell_type": "markdown",
      "source": [
        "Absolutely, the insights derived from the chart can have a positive impact on business decisions. For Airbnb hosts, understanding which neighborhoods tend to receive higher ratings allows them to strategically market their properties and potentially attract more guests. On the flip side, for Airbnb as a platform, showcasing neighborhoods with high average ratings can enhance the overall user experience, instilling confidence in users and potentially driving increased bookings and customer satisfaction. Ultimately, the information gained from the chart can influence business strategies and contribute to a positive impact on both hosts and the platform itself."
      ],
      "metadata": {
        "id": "ey_0qi68phqO"
      }
    },
    {
      "cell_type": "markdown",
      "source": [
        "#### Chart - 9\n",
        "**9.What is the average availability throughout the year?**"
      ],
      "metadata": {
        "id": "YJ55k-q6phqO"
      }
    },
    {
      "cell_type": "code",
      "source": [
        "# Chart - 9 visualization code\n",
        "avg_availability=air_df.groupby(\"neighbourhood_group\")[\"availability_365\"].mean().reset_index()\n",
        "order_of_availability=avg_availability.sort_values(\"availability_365\")\n",
        "order_of_availability"
      ],
      "metadata": {
        "id": "B2aS4O1ophqO"
      },
      "execution_count": null,
      "outputs": []
    },
    {
      "cell_type": "code",
      "source": [
        "# Plotting the bar chart\n",
        "plt.figure(figsize=(10, 6))\n",
        "plt.bar(order_of_availability[\"neighbourhood_group\"], order_of_availability[\"availability_365\"], color='skyblue', width=0.5)\n",
        "plt.xlabel('neighbourhood_group')\n",
        "plt.ylabel('availability_365')\n",
        "plt.title('Average availability throughout the year')\n",
        "plt.xticks(rotation=60, ha='right')  # Rotate x-axis labels for better readability\n",
        "plt.tight_layout()\n",
        "\n",
        "# Show the plot\n",
        "plt.show()"
      ],
      "metadata": {
        "id": "g-Skm3y8QltH"
      },
      "execution_count": null,
      "outputs": []
    },
    {
      "cell_type": "markdown",
      "source": [
        "##### 1. Why did you pick the specific chart?"
      ],
      "metadata": {
        "id": "gCFgpxoyphqP"
      }
    },
    {
      "cell_type": "markdown",
      "source": [
        "The choice of a bar chart was deliberate as it provides a clear and concise representation of the average availability throughout the year. Bar charts are effective in displaying variations in data across different categories (in this case, months) and are easily understandable. This type of chart allows stakeholders to quickly grasp the trends and patterns in availability over the course of the year."
      ],
      "metadata": {
        "id": "TVxDimi2phqP"
      }
    },
    {
      "cell_type": "markdown",
      "source": [
        "##### 2. What is/are the insight(s) found from the chart?"
      ],
      "metadata": {
        "id": "OVtJsKN_phqQ"
      }
    },
    {
      "cell_type": "markdown",
      "source": [
        "The bar chart reveals the seasonal patterns in availability, showcasing months with high and low average availability. It helps identify peak seasons and periods of lower availability. This insight can be valuable for optimizing pricing strategies, managing staffing levels, and implementing targeted marketing campaigns during high-demand periods. Additionally, businesses can use this information to plan maintenance or renovation activities during periods of lower demand."
      ],
      "metadata": {
        "id": "ngGi97qjphqQ"
      }
    },
    {
      "cell_type": "markdown",
      "source": [
        "##### 3. Will the gained insights help creating a positive business impact?\n"
      ],
      "metadata": {
        "id": "lssrdh5qphqQ"
      }
    },
    {
      "cell_type": "markdown",
      "source": [
        "The insights derived from the average availability throughout the year can have a significant positive impact on business operations. By strategically aligning resources and marketing efforts with the identified patterns, businesses can enhance overall efficiency and revenue. For instance, adjusting pricing based on demand fluctuations and implementing promotional activities during low-demand periods can maximize occupancy rates and profitability. This data-driven approach aids in making informed decisions that contribute to the overall success and sustainability of the business."
      ],
      "metadata": {
        "id": "tBpY5ekJphqQ"
      }
    },
    {
      "cell_type": "markdown",
      "source": [
        "#### Chart - 10\n",
        "**10.Pie Chart of Room Type Distribution:**"
      ],
      "metadata": {
        "id": "U2RJ9gkRphqQ"
      }
    },
    {
      "cell_type": "code",
      "source": [
        "# Chart - 10 visualization code\n",
        "# Count the occurrences of each room type\n",
        "room_type_counts = air_df['room_type'].value_counts()\n",
        "\n",
        "# Create a pie chart\n",
        "fig=plt.figure(figsize=(11,7))\n",
        "plt.pie(room_type_counts, labels=room_type_counts.index, autopct='%1.1f%%', startangle=90, colors=['#66b3ff','#99ff99','#ffcc99'])\n",
        "plt.title('Distribution of Room Types in Airbnb Listings')\n",
        "plt.show()"
      ],
      "metadata": {
        "id": "GM7a4YP4phqQ"
      },
      "execution_count": null,
      "outputs": []
    },
    {
      "cell_type": "markdown",
      "source": [
        "##### 1. Why did you pick the specific chart?"
      ],
      "metadata": {
        "id": "1M8mcRywphqQ"
      }
    },
    {
      "cell_type": "markdown",
      "source": [
        "A pie chart was chosen to represent the Room Type Distribution because it provides a visually intuitive way to showcase the proportionate distribution of different room types. Each segment of the pie chart corresponds to a specific room type, making it easy for viewers to grasp the relative size or percentage of each category in the overall distribution."
      ],
      "metadata": {
        "id": "8agQvks0phqQ"
      }
    },
    {
      "cell_type": "markdown",
      "source": [
        "##### 2. What is/are the insight(s) found from the chart?"
      ],
      "metadata": {
        "id": "tgIPom80phqQ"
      }
    },
    {
      "cell_type": "markdown",
      "source": [
        "The pie chart reveals the distribution of room types, indicating which types are more prevalent or scarce. By analyzing the chart, we can identify the dominant room types and understand their share in the overall distribution. This insight can be valuable for property management and marketing strategies, helping businesses focus their efforts on promoting or optimizing the most common room types."
      ],
      "metadata": {
        "id": "Qp13pnNzphqQ"
      }
    },
    {
      "cell_type": "markdown",
      "source": [
        "##### 3. Will the gained insights help creating a positive business impact?\n"
      ],
      "metadata": {
        "id": "JMzcOPDDphqR"
      }
    },
    {
      "cell_type": "markdown",
      "source": [
        "Absolutely. The insights gained from the pie chart can guide strategic decisions for positive business impact. Understanding the distribution of room types allows for tailored marketing campaigns, pricing strategies, and resource allocation. By aligning business operations with the prevalent room types, a company can enhance customer satisfaction, improve occupancy rates, and optimize revenue streams, ultimately contributing to a positive impact on the overall business performance."
      ],
      "metadata": {
        "id": "R4Ka1PC2phqR"
      }
    },
    {
      "cell_type": "markdown",
      "source": [
        "## **5. Solution to Business Objective**"
      ],
      "metadata": {
        "id": "JcMwzZxoAimU"
      }
    },
    {
      "cell_type": "markdown",
      "source": [
        "#### What do you suggest the client to achieve Business Objective ?"
      ],
      "metadata": {
        "id": "8G2x9gOozGDZ"
      }
    },
    {
      "cell_type": "markdown",
      "source": [
        "**1.Optimize Pricing Strategy:**\n",
        "\n",
        "A)Implement dynamic pricing strategies based on room types and demand trends.\n",
        "\n",
        "B)Consider offering discounts during low-demand periods to attract more bookings.\n",
        "\n",
        "C)Regularly monitor competitors' pricing and adjust rates to remain competitive.\n",
        "\n",
        "**2.Enhance Customer Experience:**\n",
        "\n",
        "A)Invest in amenities or services that received positive reviews from guests.\n",
        "\n",
        "B)Use customer feedback to address any concerns or areas for improvement.\n",
        "\n",
        "C)Create personalized experiences or promotions for returning guests.\n",
        "\n",
        "**3.Increase Occupancy Rates:**\n",
        "\n",
        "A)Launch targeted marketing campaigns during peak seasons to attract more bookings.\n",
        "\n",
        "B)Offer special promotions or packages to encourage off-season bookings.\n",
        "\n",
        "C)Optimize online presence and visibility through strategic partnerships or advertising.\n",
        "\n",
        "**4.Optimize Property Management:**\n",
        "\n",
        "A)Allocate resources based on high-demand areas and popular room types.\n",
        "\n",
        "B)Utilize data-driven insights to streamline operational processes and improve efficiency.\n",
        "\n",
        "C)Implement technology solutions to enhance property management and guest experiences.\n",
        "\n",
        "**5.Competitor Analysis and Positioning:**\n",
        "\n",
        "A)Identify unique selling points and emphasize them in marketing efforts.\n",
        "\n",
        "B)Continuously monitor competitors' strategies and adjust positioning accordingly.\n",
        "\n",
        "C)Differentiate the property by offering unique experiences or services."
      ],
      "metadata": {
        "id": "pASKb0qOza21"
      }
    },
    {
      "cell_type": "markdown",
      "source": [
        "# **Conclusion**"
      ],
      "metadata": {
        "id": "gCX9965dhzqZ"
      }
    },
    {
      "cell_type": "markdown",
      "source": [
        "In conclusion, the exploratory data analysis of the Airbnb dataset has yielded valuable insights that can strategically shape the business. The examination of room type distribution and pricing patterns offers opportunities for dynamic pricing strategies, maximizing revenue. Insights from customer reviews enable the enhancement of the overall customer experience by investing in highlighted amenities. Seasonal trends in occupancy rates guide targeted marketing efforts for increased bookings, while data-driven property management optimization promises efficiency gains. Comparative analysis against competitors provides a foundation for refining unique selling points and adapting market positioning. Collectively, these insights translate into actionable strategies, positioning the client to optimize revenue, enhance customer satisfaction, and maintain competitiveness in the dynamic Airbnb marketplace."
      ],
      "metadata": {
        "id": "Fjb1IsQkh3yE"
      }
    },
    {
      "cell_type": "markdown",
      "source": [
        "### ***Thank you!!!***"
      ],
      "metadata": {
        "id": "gIfDvo9L0UH2"
      }
    }
  ]
}